{
 "cells": [
  {
   "cell_type": "code",
   "execution_count": 1,
   "metadata": {},
   "outputs": [],
   "source": [
    "import tensorflow as tf\n",
    "from tensorflow.keras.preprocessing.image import ImageDataGenerator\n",
    "from tensorflow.keras.applications.resnet import ResNet50\n",
    "import matplotlib.pyplot as plt\n",
    "import numpy as np\n",
    "\n",
    "\n",
    "from tensorflow.keras.layers import GlobalAveragePooling2D, Dense, Dropout"
   ]
  },
  {
   "cell_type": "code",
   "execution_count": 2,
   "metadata": {},
   "outputs": [],
   "source": [
    "train_directory=\"./Notes/Train\"\n",
    "val_dir=\"./Notes/Validation\""
   ]
  },
  {
   "cell_type": "code",
   "execution_count": 3,
   "metadata": {},
   "outputs": [],
   "source": [
    "HEIGHT=64\n",
    "WIDTH=64"
   ]
  },
  {
   "cell_type": "code",
   "execution_count": 4,
   "metadata": {},
   "outputs": [],
   "source": [
    "train = ImageDataGenerator( rotation_range=5,horizontal_flip=False, width_shift_range=0.2, vertical_flip=False,\n",
    "        height_shift_range=0.1, brightness_range=[0.2,1])\n",
    "validation=ImageDataGenerator()\n"
   ]
  },
  {
   "cell_type": "code",
   "execution_count": 5,
   "metadata": {},
   "outputs": [
    {
     "name": "stdout",
     "output_type": "stream",
     "text": [
      "Found 83 images belonging to 15 classes.\n",
      "Found 15 images belonging to 15 classes.\n"
     ]
    }
   ],
   "source": [
    "train=train.flow_from_directory(train_directory, shuffle=True,\n",
    "                               target_size=(WIDTH,HEIGHT))\n",
    "validation=validation.flow_from_directory(val_dir,target_size=(WIDTH,HEIGHT))"
   ]
  },
  {
   "cell_type": "code",
   "execution_count": 6,
   "metadata": {
    "scrolled": true
   },
   "outputs": [
    {
     "name": "stdout",
     "output_type": "stream",
     "text": [
      "(64, 64, 3)\n",
      "(32, 15)\n"
     ]
    },
    {
     "data": {
      "image/png": "[encoded data removed]",
      "text/plain": [
       "<Figure size 432x288 with 1 Axes>"
      ]
     },
     "metadata": {
      "needs_background": "light"
     },
     "output_type": "display_data"
    }
   ],
   "source": [
    "sample=next(iter(train))\n",
    "plt.imshow(sample[0][0]/255)\n",
    "print(np.shape(sample[0][0]))\n",
    "print(np.shape(sample[1]))"
   ]
  },
  {
   "cell_type": "code",
   "execution_count": 7,
   "metadata": {},
   "outputs": [],
   "source": [
    "#Inspiration from https://www.kaggle.com/taninudomthanakij/beginner-with-vgg16-97-79\n",
    "def make_model():\n",
    "    inp = tf.keras.Input(shape=(WIDTH, HEIGHT, 3))\n",
    "    x = tf.cast(inp, tf.float32)\n",
    "    x = tf.keras.applications.resnet50.preprocess_input(x)\n",
    "    resnet= ResNet50(input_shape=(WIDTH,HEIGHT,3), weights='imagenet', include_top=False)\n",
    "    resnet.trainable = False\n",
    "    res_mod = resnet(x, training=False)\n",
    "    res_mod=GlobalAveragePooling2D()(res_mod)\n",
    "    res_mod=Dropout(0.2)(res_mod)\n",
    "    res_mod=Dense(256, 'relu')(res_mod)\n",
    "    res_mod=Dropout(0.2)(res_mod)\n",
    "\n",
    "    output=Dense(15, \"softmax\")(res_mod)\n",
    "\n",
    "    model=tf.keras.Model(inp,output)\n",
    "\n",
    "    return model"
   ]
  },
  {
   "cell_type": "code",
   "execution_count": 8,
   "metadata": {
    "scrolled": false
   },
   "outputs": [],
   "source": [
    "model=make_model()"
   ]
  },
  {
   "cell_type": "code",
   "execution_count": 128,
   "metadata": {},
   "outputs": [],
   "source": [
    "model.compile(loss='categorical_crossentropy', optimizer = tf.keras.optimizers.Adam(learning_rate= 0.0001),\n",
    "    metrics = [\"accuracy\"])"
   ]
  },
  {
   "cell_type": "code",
   "execution_count": 129,
   "metadata": {},
   "outputs": [],
   "source": [
    "stop_alg = tf.keras.callbacks.EarlyStopping(monitor='val_loss', patience=100,\n",
    "                         restore_best_weights=True, verbose=2)"
   ]
  },
  {
   "cell_type": "code",
   "execution_count": 130,
   "metadata": {
    "scrolled": true
   },
   "outputs": [
    {
     "name": "stdout",
     "output_type": "stream",
     "text": [
      "Epoch 1/1000\n",
      "3/3 [==============================] - 5s 823ms/step - loss: 6.3138 - accuracy: 0.0602 - val_loss: 3.6842 - val_accuracy: 0.0667\n",
      "Epoch 2/1000\n",
      "3/3 [==============================] - 1s 273ms/step - loss: 5.2667 - accuracy: 0.0964 - val_loss: 3.5331 - val_accuracy: 0.1333\n",
      "Epoch 3/1000\n",
      "3/3 [==============================] - 1s 308ms/step - loss: 4.9947 - accuracy: 0.0723 - val_loss: 3.4189 - val_accuracy: 0.1333\n",
      "Epoch 4/1000\n",
      "3/3 [==============================] - 1s 278ms/step - loss: 4.8869 - accuracy: 0.0482 - val_loss: 3.3169 - val_accuracy: 0.1333\n",
      "Epoch 5/1000\n",
      "3/3 [==============================] - 1s 282ms/step - loss: 4.4890 - accuracy: 0.0964 - val_loss: 3.2227 - val_accuracy: 0.0667\n",
      "Epoch 6/1000\n",
      "3/3 [==============================] - 1s 312ms/step - loss: 4.2814 - accuracy: 0.0964 - val_loss: 3.1146 - val_accuracy: 0.0667\n",
      "Epoch 7/1000\n",
      "3/3 [==============================] - 1s 287ms/step - loss: 4.0445 - accuracy: 0.1205 - val_loss: 3.0066 - val_accuracy: 0.1333\n",
      "Epoch 8/1000\n",
      "3/3 [==============================] - 1s 277ms/step - loss: 3.9550 - accuracy: 0.0843 - val_loss: 2.9111 - val_accuracy: 0.1333\n",
      "Epoch 9/1000\n",
      "3/3 [==============================] - 1s 311ms/step - loss: 3.4268 - accuracy: 0.0723 - val_loss: 2.8304 - val_accuracy: 0.1333\n",
      "Epoch 10/1000\n",
      "3/3 [==============================] - 1s 283ms/step - loss: 3.4542 - accuracy: 0.1446 - val_loss: 2.7661 - val_accuracy: 0.1333\n",
      "Epoch 11/1000\n",
      "3/3 [==============================] - 1s 317ms/step - loss: 3.6610 - accuracy: 0.1084 - val_loss: 2.7155 - val_accuracy: 0.1333\n",
      "Epoch 12/1000\n",
      "3/3 [==============================] - 1s 285ms/step - loss: 3.3855 - accuracy: 0.1325 - val_loss: 2.6680 - val_accuracy: 0.1333\n",
      "Epoch 13/1000\n",
      "3/3 [==============================] - 1s 278ms/step - loss: 3.2384 - accuracy: 0.1446 - val_loss: 2.6236 - val_accuracy: 0.1333\n",
      "Epoch 14/1000\n",
      "3/3 [==============================] - 1s 307ms/step - loss: 2.9885 - accuracy: 0.1687 - val_loss: 2.5932 - val_accuracy: 0.2000\n",
      "Epoch 15/1000\n",
      "3/3 [==============================] - 1s 273ms/step - loss: 3.3616 - accuracy: 0.1084 - val_loss: 2.5624 - val_accuracy: 0.2667\n",
      "Epoch 16/1000\n",
      "3/3 [==============================] - 1s 277ms/step - loss: 3.2142 - accuracy: 0.1446 - val_loss: 2.5285 - val_accuracy: 0.2667\n",
      "Epoch 17/1000\n",
      "3/3 [==============================] - 1s 282ms/step - loss: 2.6420 - accuracy: 0.2169 - val_loss: 2.4949 - val_accuracy: 0.2667\n",
      "Epoch 18/1000\n",
      "3/3 [==============================] - 1s 282ms/step - loss: 2.5610 - accuracy: 0.1928 - val_loss: 2.4526 - val_accuracy: 0.2667\n",
      "Epoch 19/1000\n",
      "3/3 [==============================] - 1s 306ms/step - loss: 3.0011 - accuracy: 0.1687 - val_loss: 2.4055 - val_accuracy: 0.2000\n",
      "Epoch 20/1000\n",
      "3/3 [==============================] - 1s 306ms/step - loss: 2.8272 - accuracy: 0.1928 - val_loss: 2.3586 - val_accuracy: 0.2667\n",
      "Epoch 21/1000\n",
      "3/3 [==============================] - 1s 278ms/step - loss: 2.8299 - accuracy: 0.1928 - val_loss: 2.3215 - val_accuracy: 0.3333\n",
      "Epoch 22/1000\n",
      "3/3 [==============================] - 1s 287ms/step - loss: 2.6979 - accuracy: 0.2651 - val_loss: 2.2886 - val_accuracy: 0.3333\n",
      "Epoch 23/1000\n",
      "3/3 [==============================] - 1s 287ms/step - loss: 2.6221 - accuracy: 0.1928 - val_loss: 2.2679 - val_accuracy: 0.2667\n",
      "Epoch 24/1000\n",
      "3/3 [==============================] - 1s 317ms/step - loss: 2.6109 - accuracy: 0.2771 - val_loss: 2.2553 - val_accuracy: 0.3333\n",
      "Epoch 25/1000\n",
      "3/3 [==============================] - 1s 287ms/step - loss: 2.6897 - accuracy: 0.2530 - val_loss: 2.2459 - val_accuracy: 0.3333\n",
      "Epoch 26/1000\n",
      "3/3 [==============================] - 1s 309ms/step - loss: 2.2903 - accuracy: 0.3133 - val_loss: 2.2373 - val_accuracy: 0.3333\n",
      "Epoch 27/1000\n",
      "3/3 [==============================] - 1s 282ms/step - loss: 2.3456 - accuracy: 0.2651 - val_loss: 2.2273 - val_accuracy: 0.3333\n",
      "Epoch 28/1000\n",
      "3/3 [==============================] - 1s 280ms/step - loss: 2.3823 - accuracy: 0.3614 - val_loss: 2.2097 - val_accuracy: 0.3333\n",
      "Epoch 29/1000\n",
      "3/3 [==============================] - 1s 278ms/step - loss: 2.4120 - accuracy: 0.3012 - val_loss: 2.1841 - val_accuracy: 0.3333\n",
      "Epoch 30/1000\n",
      "3/3 [==============================] - 1s 289ms/step - loss: 2.7129 - accuracy: 0.2410 - val_loss: 2.1677 - val_accuracy: 0.3333\n",
      "Epoch 31/1000\n",
      "3/3 [==============================] - 1s 284ms/step - loss: 2.2408 - accuracy: 0.3253 - val_loss: 2.1569 - val_accuracy: 0.3333\n",
      "Epoch 32/1000\n",
      "3/3 [==============================] - 1s 311ms/step - loss: 2.3337 - accuracy: 0.2410 - val_loss: 2.1524 - val_accuracy: 0.4000\n",
      "Epoch 33/1000\n",
      "3/3 [==============================] - 1s 277ms/step - loss: 2.2468 - accuracy: 0.2289 - val_loss: 2.1501 - val_accuracy: 0.4000\n",
      "Epoch 34/1000\n",
      "3/3 [==============================] - 1s 276ms/step - loss: 2.4909 - accuracy: 0.3012 - val_loss: 2.1482 - val_accuracy: 0.4000\n",
      "Epoch 35/1000\n",
      "3/3 [==============================] - 1s 314ms/step - loss: 2.1533 - accuracy: 0.3253 - val_loss: 2.1458 - val_accuracy: 0.4000\n",
      "Epoch 36/1000\n",
      "3/3 [==============================] - 1s 283ms/step - loss: 2.2612 - accuracy: 0.2892 - val_loss: 2.1450 - val_accuracy: 0.4667\n",
      "Epoch 37/1000\n",
      "3/3 [==============================] - 1s 281ms/step - loss: 2.3773 - accuracy: 0.2892 - val_loss: 2.1418 - val_accuracy: 0.4000\n",
      "Epoch 38/1000\n",
      "3/3 [==============================] - 1s 290ms/step - loss: 1.8856 - accuracy: 0.4217 - val_loss: 2.1372 - val_accuracy: 0.4000\n",
      "Epoch 39/1000\n",
      "3/3 [==============================] - 1s 291ms/step - loss: 2.1514 - accuracy: 0.3133 - val_loss: 2.1441 - val_accuracy: 0.4000\n",
      "Epoch 40/1000\n",
      "3/3 [==============================] - 1s 249ms/step - loss: 2.0270 - accuracy: 0.3735 - val_loss: 2.1433 - val_accuracy: 0.4000\n",
      "Epoch 41/1000\n",
      "3/3 [==============================] - 1s 250ms/step - loss: 1.8804 - accuracy: 0.3494 - val_loss: 2.1408 - val_accuracy: 0.4000\n",
      "Epoch 42/1000\n",
      "3/3 [==============================] - 1s 279ms/step - loss: 2.0779 - accuracy: 0.3373 - val_loss: 2.1418 - val_accuracy: 0.4000\n",
      "Epoch 43/1000\n",
      "3/3 [==============================] - 1s 250ms/step - loss: 2.0205 - accuracy: 0.3494 - val_loss: 2.1375 - val_accuracy: 0.4000\n",
      "Epoch 44/1000\n",
      "3/3 [==============================] - 1s 280ms/step - loss: 2.3931 - accuracy: 0.2530 - val_loss: 2.1273 - val_accuracy: 0.4000\n",
      "Epoch 45/1000\n",
      "3/3 [==============================] - 1s 275ms/step - loss: 2.1268 - accuracy: 0.2892 - val_loss: 2.1213 - val_accuracy: 0.4000\n",
      "Epoch 46/1000\n",
      "3/3 [==============================] - 1s 284ms/step - loss: 2.2564 - accuracy: 0.2771 - val_loss: 2.1174 - val_accuracy: 0.4000\n",
      "Epoch 47/1000\n",
      "3/3 [==============================] - 1s 313ms/step - loss: 1.9685 - accuracy: 0.3614 - val_loss: 2.1123 - val_accuracy: 0.4000\n",
      "Epoch 48/1000\n",
      "3/3 [==============================] - 1s 285ms/step - loss: 2.0655 - accuracy: 0.3614 - val_loss: 2.1013 - val_accuracy: 0.4000\n",
      "Epoch 49/1000\n",
      "3/3 [==============================] - 1s 314ms/step - loss: 1.8008 - accuracy: 0.4096 - val_loss: 2.0928 - val_accuracy: 0.4000\n",
      "Epoch 50/1000\n",
      "3/3 [==============================] - 1s 280ms/step - loss: 2.1011 - accuracy: 0.3614 - val_loss: 2.0883 - val_accuracy: 0.4000\n",
      "Epoch 51/1000\n",
      "3/3 [==============================] - 1s 277ms/step - loss: 1.7827 - accuracy: 0.3976 - val_loss: 2.0826 - val_accuracy: 0.4000\n",
      "Epoch 52/1000\n",
      "3/3 [==============================] - 1s 290ms/step - loss: 2.0946 - accuracy: 0.3494 - val_loss: 2.0792 - val_accuracy: 0.4000\n",
      "Epoch 53/1000\n",
      "3/3 [==============================] - 1s 286ms/step - loss: 2.1852 - accuracy: 0.3735 - val_loss: 2.0825 - val_accuracy: 0.4000\n",
      "Epoch 54/1000\n",
      "3/3 [==============================] - 1s 285ms/step - loss: 1.9002 - accuracy: 0.4217 - val_loss: 2.0938 - val_accuracy: 0.4000\n",
      "Epoch 55/1000\n",
      "3/3 [==============================] - 1s 250ms/step - loss: 2.1817 - accuracy: 0.2530 - val_loss: 2.0987 - val_accuracy: 0.4000\n",
      "Epoch 56/1000\n",
      "3/3 [==============================] - 1s 246ms/step - loss: 1.7664 - accuracy: 0.4578 - val_loss: 2.0992 - val_accuracy: 0.4000\n",
      "Epoch 57/1000\n",
      "3/3 [==============================] - 1s 242ms/step - loss: 1.8868 - accuracy: 0.3735 - val_loss: 2.0929 - val_accuracy: 0.4000\n",
      "Epoch 58/1000\n",
      "3/3 [==============================] - 1s 246ms/step - loss: 1.8747 - accuracy: 0.4337 - val_loss: 2.0882 - val_accuracy: 0.4000\n",
      "Epoch 59/1000\n",
      "3/3 [==============================] - 1s 247ms/step - loss: 1.7345 - accuracy: 0.4458 - val_loss: 2.0831 - val_accuracy: 0.4000\n",
      "Epoch 60/1000\n",
      "3/3 [==============================] - 1s 310ms/step - loss: 1.5618 - accuracy: 0.4699 - val_loss: 2.0780 - val_accuracy: 0.4000\n",
      "Epoch 61/1000\n",
      "3/3 [==============================] - 1s 280ms/step - loss: 1.7885 - accuracy: 0.4337 - val_loss: 2.0761 - val_accuracy: 0.4000\n",
      "Epoch 62/1000\n",
      "3/3 [==============================] - 1s 275ms/step - loss: 1.6858 - accuracy: 0.4337 - val_loss: 2.0745 - val_accuracy: 0.4000\n",
      "Epoch 63/1000\n",
      "3/3 [==============================] - 1s 275ms/step - loss: 1.5700 - accuracy: 0.4699 - val_loss: 2.0701 - val_accuracy: 0.4000\n",
      "Epoch 64/1000\n",
      "3/3 [==============================] - 1s 277ms/step - loss: 1.7316 - accuracy: 0.3976 - val_loss: 2.0681 - val_accuracy: 0.4000\n",
      "Epoch 65/1000\n",
      "3/3 [==============================] - 1s 280ms/step - loss: 1.6738 - accuracy: 0.4337 - val_loss: 2.0610 - val_accuracy: 0.4000\n",
      "Epoch 66/1000\n",
      "3/3 [==============================] - 1s 285ms/step - loss: 1.4687 - accuracy: 0.5663 - val_loss: 2.0480 - val_accuracy: 0.4000\n",
      "Epoch 67/1000\n",
      "3/3 [==============================] - 1s 312ms/step - loss: 1.7604 - accuracy: 0.4578 - val_loss: 2.0331 - val_accuracy: 0.4000\n",
      "Epoch 68/1000\n",
      "3/3 [==============================] - 1s 325ms/step - loss: 1.6164 - accuracy: 0.3976 - val_loss: 2.0255 - val_accuracy: 0.4000\n",
      "Epoch 69/1000\n",
      "3/3 [==============================] - 1s 308ms/step - loss: 1.6960 - accuracy: 0.4337 - val_loss: 2.0133 - val_accuracy: 0.4000\n",
      "Epoch 70/1000\n",
      "3/3 [==============================] - 1s 279ms/step - loss: 1.4205 - accuracy: 0.4940 - val_loss: 2.0128 - val_accuracy: 0.4000\n",
      "Epoch 71/1000\n",
      "3/3 [==============================] - 1s 282ms/step - loss: 1.5016 - accuracy: 0.4699 - val_loss: 2.0087 - val_accuracy: 0.4000\n",
      "Epoch 72/1000\n",
      "3/3 [==============================] - 1s 280ms/step - loss: 1.5065 - accuracy: 0.4819 - val_loss: 2.0120 - val_accuracy: 0.4000\n",
      "Epoch 73/1000\n",
      "3/3 [==============================] - 1s 274ms/step - loss: 1.6223 - accuracy: 0.5181 - val_loss: 2.0173 - val_accuracy: 0.4000\n",
      "Epoch 74/1000\n",
      "3/3 [==============================] - 1s 243ms/step - loss: 1.5896 - accuracy: 0.4699 - val_loss: 2.0190 - val_accuracy: 0.4000\n",
      "Epoch 75/1000\n",
      "3/3 [==============================] - 1s 248ms/step - loss: 1.6483 - accuracy: 0.5181 - val_loss: 2.0151 - val_accuracy: 0.4000\n",
      "Epoch 76/1000\n",
      "3/3 [==============================] - 1s 246ms/step - loss: 1.6446 - accuracy: 0.4096 - val_loss: 2.0112 - val_accuracy: 0.4000\n",
      "Epoch 77/1000\n",
      "3/3 [==============================] - 1s 247ms/step - loss: 1.5291 - accuracy: 0.4578 - val_loss: 2.0107 - val_accuracy: 0.4000\n",
      "Epoch 78/1000\n",
      "3/3 [==============================] - 1s 263ms/step - loss: 1.5106 - accuracy: 0.5301 - val_loss: 2.0128 - val_accuracy: 0.4000\n",
      "Epoch 79/1000\n",
      "3/3 [==============================] - 1s 291ms/step - loss: 1.7521 - accuracy: 0.4819 - val_loss: 2.0194 - val_accuracy: 0.4000\n",
      "Epoch 80/1000\n",
      "3/3 [==============================] - 1s 249ms/step - loss: 1.5411 - accuracy: 0.4578 - val_loss: 2.0249 - val_accuracy: 0.4000\n",
      "Epoch 81/1000\n",
      "3/3 [==============================] - 1s 298ms/step - loss: 1.7655 - accuracy: 0.4217 - val_loss: 2.0192 - val_accuracy: 0.4000\n",
      "Epoch 82/1000\n",
      "3/3 [==============================] - 1s 259ms/step - loss: 1.7463 - accuracy: 0.4337 - val_loss: 2.0137 - val_accuracy: 0.4000\n",
      "Epoch 83/1000\n",
      "3/3 [==============================] - 1s 311ms/step - loss: 1.5834 - accuracy: 0.4819 - val_loss: 2.0136 - val_accuracy: 0.4000\n",
      "Epoch 84/1000\n",
      "3/3 [==============================] - 1s 241ms/step - loss: 1.6251 - accuracy: 0.4337 - val_loss: 2.0110 - val_accuracy: 0.4667\n",
      "Epoch 85/1000\n",
      "3/3 [==============================] - 1s 337ms/step - loss: 1.6241 - accuracy: 0.4096 - val_loss: 2.0086 - val_accuracy: 0.4667\n",
      "Epoch 86/1000\n",
      "3/3 [==============================] - 1s 296ms/step - loss: 1.6199 - accuracy: 0.5060 - val_loss: 2.0119 - val_accuracy: 0.4000\n",
      "Epoch 87/1000\n",
      "3/3 [==============================] - 1s 288ms/step - loss: 1.4088 - accuracy: 0.5904 - val_loss: 2.0080 - val_accuracy: 0.4000\n",
      "Epoch 88/1000\n",
      "3/3 [==============================] - 1s 299ms/step - loss: 1.2465 - accuracy: 0.6265 - val_loss: 2.0096 - val_accuracy: 0.4000\n",
      "Epoch 89/1000\n",
      "3/3 [==============================] - 1s 245ms/step - loss: 1.5546 - accuracy: 0.4819 - val_loss: 2.0127 - val_accuracy: 0.4000\n",
      "Epoch 90/1000\n",
      "3/3 [==============================] - 1s 286ms/step - loss: 1.4476 - accuracy: 0.5181 - val_loss: 2.0241 - val_accuracy: 0.4000\n",
      "Epoch 91/1000\n",
      "3/3 [==============================] - 1s 341ms/step - loss: 1.3527 - accuracy: 0.4940 - val_loss: 2.0379 - val_accuracy: 0.4000\n",
      "Epoch 92/1000\n",
      "3/3 [==============================] - 1s 249ms/step - loss: 1.5039 - accuracy: 0.4940 - val_loss: 2.0482 - val_accuracy: 0.4000\n",
      "Epoch 93/1000\n",
      "3/3 [==============================] - 1s 271ms/step - loss: 1.5119 - accuracy: 0.5663 - val_loss: 2.0510 - val_accuracy: 0.4000\n",
      "Epoch 94/1000\n",
      "3/3 [==============================] - 1s 290ms/step - loss: 1.2004 - accuracy: 0.5783 - val_loss: 2.0574 - val_accuracy: 0.4000\n",
      "Epoch 95/1000\n",
      "3/3 [==============================] - 1s 256ms/step - loss: 1.5425 - accuracy: 0.4699 - val_loss: 2.0644 - val_accuracy: 0.4000\n",
      "Epoch 96/1000\n",
      "3/3 [==============================] - 1s 261ms/step - loss: 1.2313 - accuracy: 0.5904 - val_loss: 2.0662 - val_accuracy: 0.4000\n",
      "Epoch 97/1000\n",
      "3/3 [==============================] - 1s 251ms/step - loss: 1.4516 - accuracy: 0.5663 - val_loss: 2.0584 - val_accuracy: 0.3333\n",
      "Epoch 98/1000\n",
      "3/3 [==============================] - 1s 262ms/step - loss: 1.5653 - accuracy: 0.4458 - val_loss: 2.0573 - val_accuracy: 0.3333\n",
      "Epoch 99/1000\n",
      "3/3 [==============================] - 1s 299ms/step - loss: 1.5408 - accuracy: 0.4578 - val_loss: 2.0501 - val_accuracy: 0.4000\n",
      "Epoch 100/1000\n",
      "3/3 [==============================] - 1s 316ms/step - loss: 1.4096 - accuracy: 0.5542 - val_loss: 2.0407 - val_accuracy: 0.4000\n",
      "Epoch 101/1000\n",
      "3/3 [==============================] - 1s 249ms/step - loss: 1.3484 - accuracy: 0.5542 - val_loss: 2.0313 - val_accuracy: 0.4000\n",
      "Epoch 102/1000\n",
      "3/3 [==============================] - 1s 259ms/step - loss: 1.3295 - accuracy: 0.5783 - val_loss: 2.0225 - val_accuracy: 0.4000\n",
      "Epoch 103/1000\n",
      "3/3 [==============================] - 1s 264ms/step - loss: 1.2775 - accuracy: 0.5542 - val_loss: 2.0172 - val_accuracy: 0.4000\n",
      "Epoch 104/1000\n",
      "3/3 [==============================] - 1s 317ms/step - loss: 1.5820 - accuracy: 0.5542 - val_loss: 2.0047 - val_accuracy: 0.4000\n",
      "Epoch 105/1000\n",
      "3/3 [==============================] - 1s 298ms/step - loss: 1.2252 - accuracy: 0.5783 - val_loss: 1.9963 - val_accuracy: 0.4000\n",
      "Epoch 106/1000\n",
      "3/3 [==============================] - 1s 285ms/step - loss: 1.5412 - accuracy: 0.5542 - val_loss: 1.9854 - val_accuracy: 0.3333\n",
      "Epoch 107/1000\n",
      "3/3 [==============================] - 1s 338ms/step - loss: 1.1928 - accuracy: 0.5783 - val_loss: 1.9803 - val_accuracy: 0.4000\n",
      "Epoch 108/1000\n",
      "3/3 [==============================] - 1s 328ms/step - loss: 1.3966 - accuracy: 0.5422 - val_loss: 1.9680 - val_accuracy: 0.4667\n",
      "Epoch 109/1000\n",
      "3/3 [==============================] - 1s 340ms/step - loss: 1.3830 - accuracy: 0.5663 - val_loss: 1.9676 - val_accuracy: 0.4667\n",
      "Epoch 110/1000\n",
      "3/3 [==============================] - 1s 346ms/step - loss: 1.3869 - accuracy: 0.6145 - val_loss: 1.9660 - val_accuracy: 0.4667\n",
      "Epoch 111/1000\n",
      "3/3 [==============================] - 1s 307ms/step - loss: 1.3479 - accuracy: 0.6145 - val_loss: 1.9680 - val_accuracy: 0.4667\n",
      "Epoch 112/1000\n",
      "3/3 [==============================] - 1s 270ms/step - loss: 1.4767 - accuracy: 0.5181 - val_loss: 1.9778 - val_accuracy: 0.4667\n",
      "Epoch 113/1000\n",
      "3/3 [==============================] - 1s 249ms/step - loss: 1.2144 - accuracy: 0.6747 - val_loss: 1.9870 - val_accuracy: 0.4667\n",
      "Epoch 114/1000\n",
      "3/3 [==============================] - 1s 266ms/step - loss: 1.2894 - accuracy: 0.6145 - val_loss: 1.9868 - val_accuracy: 0.4667\n",
      "Epoch 115/1000\n"
     ]
    },
    {
     "name": "stdout",
     "output_type": "stream",
     "text": [
      "3/3 [==============================] - 1s 260ms/step - loss: 1.4844 - accuracy: 0.4699 - val_loss: 1.9827 - val_accuracy: 0.4667\n",
      "Epoch 116/1000\n",
      "3/3 [==============================] - 1s 286ms/step - loss: 1.2527 - accuracy: 0.5783 - val_loss: 1.9834 - val_accuracy: 0.4000\n",
      "Epoch 117/1000\n",
      "3/3 [==============================] - 1s 285ms/step - loss: 1.2355 - accuracy: 0.5904 - val_loss: 1.9914 - val_accuracy: 0.4000\n",
      "Epoch 118/1000\n",
      "3/3 [==============================] - 1s 280ms/step - loss: 1.2582 - accuracy: 0.5422 - val_loss: 1.9957 - val_accuracy: 0.4000\n",
      "Epoch 119/1000\n",
      "3/3 [==============================] - 1s 286ms/step - loss: 1.1429 - accuracy: 0.5904 - val_loss: 1.9999 - val_accuracy: 0.4000\n",
      "Epoch 120/1000\n",
      "3/3 [==============================] - 1s 284ms/step - loss: 1.3352 - accuracy: 0.5542 - val_loss: 2.0019 - val_accuracy: 0.4667\n",
      "Epoch 121/1000\n",
      "3/3 [==============================] - 1s 279ms/step - loss: 1.2682 - accuracy: 0.5904 - val_loss: 1.9997 - val_accuracy: 0.4667\n",
      "Epoch 122/1000\n",
      "3/3 [==============================] - 1s 250ms/step - loss: 1.2191 - accuracy: 0.5422 - val_loss: 1.9871 - val_accuracy: 0.5333\n",
      "Epoch 123/1000\n",
      "3/3 [==============================] - 1s 258ms/step - loss: 1.1842 - accuracy: 0.6145 - val_loss: 1.9763 - val_accuracy: 0.5333\n",
      "Epoch 124/1000\n",
      "3/3 [==============================] - 1s 321ms/step - loss: 1.1398 - accuracy: 0.5904 - val_loss: 1.9647 - val_accuracy: 0.5333\n",
      "Epoch 125/1000\n",
      "3/3 [==============================] - 1s 279ms/step - loss: 1.0660 - accuracy: 0.6386 - val_loss: 1.9615 - val_accuracy: 0.5333\n",
      "Epoch 126/1000\n",
      "3/3 [==============================] - 1s 246ms/step - loss: 1.2377 - accuracy: 0.5904 - val_loss: 1.9624 - val_accuracy: 0.5333\n",
      "Epoch 127/1000\n",
      "3/3 [==============================] - 1s 253ms/step - loss: 1.3319 - accuracy: 0.5422 - val_loss: 1.9648 - val_accuracy: 0.5333\n",
      "Epoch 128/1000\n",
      "3/3 [==============================] - 1s 248ms/step - loss: 1.3244 - accuracy: 0.5904 - val_loss: 1.9705 - val_accuracy: 0.5333\n",
      "Epoch 129/1000\n",
      "3/3 [==============================] - 1s 247ms/step - loss: 1.0865 - accuracy: 0.6265 - val_loss: 1.9726 - val_accuracy: 0.5333\n",
      "Epoch 130/1000\n",
      "3/3 [==============================] - 1s 249ms/step - loss: 1.2893 - accuracy: 0.5542 - val_loss: 1.9724 - val_accuracy: 0.5333\n",
      "Epoch 131/1000\n",
      "3/3 [==============================] - 1s 283ms/step - loss: 1.3836 - accuracy: 0.5422 - val_loss: 1.9668 - val_accuracy: 0.5333\n",
      "Epoch 132/1000\n",
      "3/3 [==============================] - 1s 250ms/step - loss: 1.0981 - accuracy: 0.5663 - val_loss: 1.9618 - val_accuracy: 0.5333\n",
      "Epoch 133/1000\n",
      "3/3 [==============================] - 1s 286ms/step - loss: 1.2712 - accuracy: 0.5783 - val_loss: 1.9541 - val_accuracy: 0.5333\n",
      "Epoch 134/1000\n",
      "3/3 [==============================] - 1s 290ms/step - loss: 1.0488 - accuracy: 0.6506 - val_loss: 1.9498 - val_accuracy: 0.6000\n",
      "Epoch 135/1000\n",
      "3/3 [==============================] - 1s 304ms/step - loss: 1.2059 - accuracy: 0.6867 - val_loss: 1.9482 - val_accuracy: 0.4667\n",
      "Epoch 136/1000\n",
      "3/3 [==============================] - 1s 244ms/step - loss: 1.2958 - accuracy: 0.5542 - val_loss: 1.9484 - val_accuracy: 0.4667\n",
      "Epoch 137/1000\n",
      "3/3 [==============================] - 1s 275ms/step - loss: 1.1154 - accuracy: 0.6747 - val_loss: 1.9441 - val_accuracy: 0.4667\n",
      "Epoch 138/1000\n",
      "3/3 [==============================] - 1s 279ms/step - loss: 1.2382 - accuracy: 0.5904 - val_loss: 1.9387 - val_accuracy: 0.4667\n",
      "Epoch 139/1000\n",
      "3/3 [==============================] - 1s 318ms/step - loss: 1.3048 - accuracy: 0.6145 - val_loss: 1.9318 - val_accuracy: 0.4667\n",
      "Epoch 140/1000\n",
      "3/3 [==============================] - 1s 307ms/step - loss: 1.2134 - accuracy: 0.6024 - val_loss: 1.9312 - val_accuracy: 0.4667\n",
      "Epoch 141/1000\n",
      "3/3 [==============================] - 1s 241ms/step - loss: 1.0557 - accuracy: 0.6506 - val_loss: 1.9357 - val_accuracy: 0.4667\n",
      "Epoch 142/1000\n",
      "3/3 [==============================] - 1s 245ms/step - loss: 1.2309 - accuracy: 0.6024 - val_loss: 1.9369 - val_accuracy: 0.4667\n",
      "Epoch 143/1000\n",
      "3/3 [==============================] - 1s 255ms/step - loss: 1.0811 - accuracy: 0.6506 - val_loss: 1.9336 - val_accuracy: 0.4667\n",
      "Epoch 144/1000\n",
      "3/3 [==============================] - 1s 242ms/step - loss: 1.1683 - accuracy: 0.5783 - val_loss: 1.9370 - val_accuracy: 0.5333\n",
      "Epoch 145/1000\n",
      "3/3 [==============================] - 1s 244ms/step - loss: 1.1502 - accuracy: 0.6506 - val_loss: 1.9378 - val_accuracy: 0.5333\n",
      "Epoch 146/1000\n",
      "3/3 [==============================] - 1s 284ms/step - loss: 1.1501 - accuracy: 0.5422 - val_loss: 1.9365 - val_accuracy: 0.5333\n",
      "Epoch 147/1000\n",
      "3/3 [==============================] - 1s 293ms/step - loss: 1.1373 - accuracy: 0.6627 - val_loss: 1.9297 - val_accuracy: 0.6000\n",
      "Epoch 148/1000\n",
      "3/3 [==============================] - 1s 314ms/step - loss: 1.1510 - accuracy: 0.5783 - val_loss: 1.9217 - val_accuracy: 0.6000\n",
      "Epoch 149/1000\n",
      "3/3 [==============================] - 1s 313ms/step - loss: 1.1522 - accuracy: 0.6145 - val_loss: 1.9151 - val_accuracy: 0.6000\n",
      "Epoch 150/1000\n",
      "3/3 [==============================] - 1s 319ms/step - loss: 1.0896 - accuracy: 0.6265 - val_loss: 1.9070 - val_accuracy: 0.6000\n",
      "Epoch 151/1000\n",
      "3/3 [==============================] - 1s 274ms/step - loss: 1.0934 - accuracy: 0.6386 - val_loss: 1.9016 - val_accuracy: 0.6000\n",
      "Epoch 152/1000\n",
      "3/3 [==============================] - 1s 279ms/step - loss: 1.1765 - accuracy: 0.5904 - val_loss: 1.8990 - val_accuracy: 0.6000\n",
      "Epoch 153/1000\n",
      "3/3 [==============================] - 1s 279ms/step - loss: 1.2217 - accuracy: 0.5060 - val_loss: 1.9039 - val_accuracy: 0.6000\n",
      "Epoch 154/1000\n",
      "3/3 [==============================] - 1s 251ms/step - loss: 0.9900 - accuracy: 0.6627 - val_loss: 1.9093 - val_accuracy: 0.6000\n",
      "Epoch 155/1000\n",
      "3/3 [==============================] - 1s 241ms/step - loss: 1.0249 - accuracy: 0.6747 - val_loss: 1.9128 - val_accuracy: 0.6000\n",
      "Epoch 156/1000\n",
      "3/3 [==============================] - 1s 241ms/step - loss: 1.0643 - accuracy: 0.6627 - val_loss: 1.9145 - val_accuracy: 0.6000\n",
      "Epoch 157/1000\n",
      "3/3 [==============================] - 1s 258ms/step - loss: 1.2875 - accuracy: 0.6386 - val_loss: 1.9095 - val_accuracy: 0.6000\n",
      "Epoch 158/1000\n",
      "3/3 [==============================] - 1s 257ms/step - loss: 1.0536 - accuracy: 0.5783 - val_loss: 1.9019 - val_accuracy: 0.5333\n",
      "Epoch 159/1000\n",
      "3/3 [==============================] - 1s 245ms/step - loss: 0.9390 - accuracy: 0.6867 - val_loss: 1.8991 - val_accuracy: 0.5333\n",
      "Epoch 160/1000\n",
      "3/3 [==============================] - 1s 289ms/step - loss: 1.2357 - accuracy: 0.6265 - val_loss: 1.9005 - val_accuracy: 0.4000\n",
      "Epoch 161/1000\n",
      "3/3 [==============================] - 1s 249ms/step - loss: 0.9887 - accuracy: 0.6867 - val_loss: 1.9020 - val_accuracy: 0.4000\n",
      "Epoch 162/1000\n",
      "3/3 [==============================] - 1s 283ms/step - loss: 0.9438 - accuracy: 0.6867 - val_loss: 1.9070 - val_accuracy: 0.4000\n",
      "Epoch 163/1000\n",
      "3/3 [==============================] - 1s 293ms/step - loss: 1.1252 - accuracy: 0.5663 - val_loss: 1.9028 - val_accuracy: 0.4667\n",
      "Epoch 164/1000\n",
      "3/3 [==============================] - 1s 310ms/step - loss: 1.1546 - accuracy: 0.6145 - val_loss: 1.8989 - val_accuracy: 0.5333\n",
      "Epoch 165/1000\n",
      "3/3 [==============================] - 1s 304ms/step - loss: 1.1103 - accuracy: 0.6747 - val_loss: 1.8923 - val_accuracy: 0.5333\n",
      "Epoch 166/1000\n",
      "3/3 [==============================] - 1s 308ms/step - loss: 0.9591 - accuracy: 0.6506 - val_loss: 1.8865 - val_accuracy: 0.5333\n",
      "Epoch 167/1000\n",
      "3/3 [==============================] - 1s 280ms/step - loss: 0.9908 - accuracy: 0.6627 - val_loss: 1.8818 - val_accuracy: 0.4667\n",
      "Epoch 168/1000\n",
      "3/3 [==============================] - 1s 286ms/step - loss: 1.1222 - accuracy: 0.5422 - val_loss: 1.8807 - val_accuracy: 0.4667\n",
      "Epoch 169/1000\n",
      "3/3 [==============================] - 1s 318ms/step - loss: 1.0731 - accuracy: 0.6145 - val_loss: 1.8794 - val_accuracy: 0.4667\n",
      "Epoch 170/1000\n",
      "3/3 [==============================] - 1s 249ms/step - loss: 0.7870 - accuracy: 0.7470 - val_loss: 1.8807 - val_accuracy: 0.5333\n",
      "Epoch 171/1000\n",
      "3/3 [==============================] - 1s 284ms/step - loss: 1.2086 - accuracy: 0.5783 - val_loss: 1.8881 - val_accuracy: 0.5333\n"
     ]
    },
    {
     "name": "stdout",
     "output_type": "stream",
     "text": [
      "Epoch 172/1000\n",
      "3/3 [==============================] - 1s 314ms/step - loss: 1.0831 - accuracy: 0.6386 - val_loss: 1.8944 - val_accuracy: 0.5333\n",
      "Epoch 173/1000\n",
      "3/3 [==============================] - 1s 253ms/step - loss: 0.7215 - accuracy: 0.7711 - val_loss: 1.8965 - val_accuracy: 0.6000\n",
      "Epoch 174/1000\n",
      "3/3 [==============================] - 1s 247ms/step - loss: 1.0169 - accuracy: 0.6867 - val_loss: 1.8971 - val_accuracy: 0.5333\n",
      "Epoch 175/1000\n",
      "3/3 [==============================] - 1s 257ms/step - loss: 1.0260 - accuracy: 0.6145 - val_loss: 1.8952 - val_accuracy: 0.4667\n",
      "Epoch 176/1000\n",
      "3/3 [==============================] - 1s 248ms/step - loss: 1.0182 - accuracy: 0.6627 - val_loss: 1.8911 - val_accuracy: 0.4667\n",
      "Epoch 177/1000\n",
      "3/3 [==============================] - 1s 242ms/step - loss: 1.0065 - accuracy: 0.6627 - val_loss: 1.8875 - val_accuracy: 0.4667\n",
      "Epoch 178/1000\n",
      "3/3 [==============================] - 1s 250ms/step - loss: 0.9926 - accuracy: 0.6867 - val_loss: 1.8905 - val_accuracy: 0.4667\n",
      "Epoch 179/1000\n",
      "3/3 [==============================] - 1s 284ms/step - loss: 0.8818 - accuracy: 0.7590 - val_loss: 1.8990 - val_accuracy: 0.4667\n",
      "Epoch 180/1000\n",
      "3/3 [==============================] - 1s 285ms/step - loss: 0.8707 - accuracy: 0.6867 - val_loss: 1.9058 - val_accuracy: 0.4667\n",
      "Epoch 181/1000\n",
      "3/3 [==============================] - 1s 246ms/step - loss: 0.8623 - accuracy: 0.6747 - val_loss: 1.9054 - val_accuracy: 0.4667\n",
      "Epoch 182/1000\n",
      "3/3 [==============================] - 1s 246ms/step - loss: 1.0720 - accuracy: 0.5904 - val_loss: 1.9061 - val_accuracy: 0.4667\n",
      "Epoch 183/1000\n",
      "3/3 [==============================] - 1s 248ms/step - loss: 0.9296 - accuracy: 0.7229 - val_loss: 1.9037 - val_accuracy: 0.4667\n",
      "Epoch 184/1000\n",
      "3/3 [==============================] - 1s 243ms/step - loss: 0.9342 - accuracy: 0.6386 - val_loss: 1.9048 - val_accuracy: 0.4667\n",
      "Epoch 185/1000\n",
      "3/3 [==============================] - 1s 270ms/step - loss: 0.9706 - accuracy: 0.6867 - val_loss: 1.9034 - val_accuracy: 0.4667\n",
      "Epoch 186/1000\n",
      "3/3 [==============================] - 1s 249ms/step - loss: 0.8752 - accuracy: 0.7349 - val_loss: 1.9065 - val_accuracy: 0.4667\n",
      "Epoch 187/1000\n",
      "3/3 [==============================] - 1s 250ms/step - loss: 0.9277 - accuracy: 0.6386 - val_loss: 1.9180 - val_accuracy: 0.4667\n",
      "Epoch 188/1000\n",
      "3/3 [==============================] - 1s 241ms/step - loss: 0.9542 - accuracy: 0.6506 - val_loss: 1.9319 - val_accuracy: 0.4667\n",
      "Epoch 189/1000\n",
      "3/3 [==============================] - 1s 245ms/step - loss: 0.8626 - accuracy: 0.7590 - val_loss: 1.9410 - val_accuracy: 0.4667\n",
      "Epoch 190/1000\n",
      "3/3 [==============================] - 1s 292ms/step - loss: 0.9165 - accuracy: 0.6747 - val_loss: 1.9410 - val_accuracy: 0.4667\n",
      "Epoch 191/1000\n",
      "3/3 [==============================] - 1s 281ms/step - loss: 0.9828 - accuracy: 0.6265 - val_loss: 1.9452 - val_accuracy: 0.5333\n",
      "Epoch 192/1000\n",
      "3/3 [==============================] - 1s 256ms/step - loss: 0.8851 - accuracy: 0.7229 - val_loss: 1.9521 - val_accuracy: 0.5333\n",
      "Epoch 193/1000\n",
      "3/3 [==============================] - 1s 250ms/step - loss: 0.9825 - accuracy: 0.6265 - val_loss: 1.9597 - val_accuracy: 0.5333\n",
      "Epoch 194/1000\n",
      "3/3 [==============================] - 1s 278ms/step - loss: 1.0867 - accuracy: 0.6867 - val_loss: 1.9704 - val_accuracy: 0.5333\n",
      "Epoch 195/1000\n",
      "3/3 [==============================] - 1s 253ms/step - loss: 1.0504 - accuracy: 0.6145 - val_loss: 1.9720 - val_accuracy: 0.5333\n",
      "Epoch 196/1000\n",
      "3/3 [==============================] - 1s 251ms/step - loss: 1.0515 - accuracy: 0.6386 - val_loss: 1.9657 - val_accuracy: 0.5333\n",
      "Epoch 197/1000\n",
      "3/3 [==============================] - 1s 268ms/step - loss: 1.1520 - accuracy: 0.6386 - val_loss: 1.9708 - val_accuracy: 0.5333\n",
      "Epoch 198/1000\n",
      "3/3 [==============================] - 1s 259ms/step - loss: 0.8717 - accuracy: 0.7108 - val_loss: 1.9671 - val_accuracy: 0.5333\n",
      "Epoch 199/1000\n",
      "3/3 [==============================] - 1s 251ms/step - loss: 0.9521 - accuracy: 0.6747 - val_loss: 1.9667 - val_accuracy: 0.5333\n",
      "Epoch 200/1000\n",
      "3/3 [==============================] - 1s 291ms/step - loss: 0.8460 - accuracy: 0.6747 - val_loss: 1.9655 - val_accuracy: 0.5333\n",
      "Epoch 201/1000\n",
      "3/3 [==============================] - 1s 249ms/step - loss: 0.8461 - accuracy: 0.6627 - val_loss: 1.9549 - val_accuracy: 0.6000\n",
      "Epoch 202/1000\n",
      "3/3 [==============================] - 1s 251ms/step - loss: 1.0820 - accuracy: 0.6024 - val_loss: 1.9473 - val_accuracy: 0.5333\n",
      "Epoch 203/1000\n",
      "3/3 [==============================] - 1s 253ms/step - loss: 0.8131 - accuracy: 0.7349 - val_loss: 1.9455 - val_accuracy: 0.5333\n",
      "Epoch 204/1000\n",
      "3/3 [==============================] - 1s 249ms/step - loss: 0.8864 - accuracy: 0.7108 - val_loss: 1.9469 - val_accuracy: 0.5333\n",
      "Epoch 205/1000\n",
      "3/3 [==============================] - 1s 287ms/step - loss: 0.8418 - accuracy: 0.6867 - val_loss: 1.9504 - val_accuracy: 0.5333\n",
      "Epoch 206/1000\n",
      "3/3 [==============================] - 1s 249ms/step - loss: 0.9664 - accuracy: 0.6747 - val_loss: 1.9500 - val_accuracy: 0.5333\n",
      "Epoch 207/1000\n",
      "3/3 [==============================] - 1s 255ms/step - loss: 0.7677 - accuracy: 0.7590 - val_loss: 1.9424 - val_accuracy: 0.6000\n",
      "Epoch 208/1000\n",
      "3/3 [==============================] - 1s 283ms/step - loss: 1.0261 - accuracy: 0.6145 - val_loss: 1.9309 - val_accuracy: 0.6000\n",
      "Epoch 209/1000\n",
      "3/3 [==============================] - 1s 278ms/step - loss: 0.7831 - accuracy: 0.7952 - val_loss: 1.9260 - val_accuracy: 0.6000\n",
      "Epoch 210/1000\n",
      "3/3 [==============================] - 1s 248ms/step - loss: 1.0819 - accuracy: 0.7108 - val_loss: 1.9200 - val_accuracy: 0.6000\n",
      "Epoch 211/1000\n",
      "3/3 [==============================] - 1s 250ms/step - loss: 0.9816 - accuracy: 0.6627 - val_loss: 1.9148 - val_accuracy: 0.6000\n",
      "Epoch 212/1000\n",
      "3/3 [==============================] - 1s 251ms/step - loss: 1.0749 - accuracy: 0.6627 - val_loss: 1.9110 - val_accuracy: 0.4667\n",
      "Epoch 213/1000\n",
      "3/3 [==============================] - 1s 249ms/step - loss: 0.8809 - accuracy: 0.7108 - val_loss: 1.9074 - val_accuracy: 0.4667\n",
      "Epoch 214/1000\n",
      "3/3 [==============================] - 1s 248ms/step - loss: 0.7715 - accuracy: 0.7711 - val_loss: 1.9119 - val_accuracy: 0.4667\n",
      "Epoch 215/1000\n",
      "3/3 [==============================] - 1s 281ms/step - loss: 0.8708 - accuracy: 0.7108 - val_loss: 1.9197 - val_accuracy: 0.4667\n",
      "Epoch 216/1000\n",
      "3/3 [==============================] - 1s 249ms/step - loss: 0.9562 - accuracy: 0.6988 - val_loss: 1.9286 - val_accuracy: 0.4667\n",
      "Epoch 217/1000\n",
      "3/3 [==============================] - 1s 282ms/step - loss: 0.7700 - accuracy: 0.6988 - val_loss: 1.9451 - val_accuracy: 0.4667\n",
      "Epoch 218/1000\n",
      "3/3 [==============================] - 1s 274ms/step - loss: 0.8399 - accuracy: 0.7349 - val_loss: 1.9586 - val_accuracy: 0.4667\n",
      "Epoch 219/1000\n",
      "3/3 [==============================] - 1s 248ms/step - loss: 0.8637 - accuracy: 0.7229 - val_loss: 1.9691 - val_accuracy: 0.4667\n",
      "Epoch 220/1000\n",
      "3/3 [==============================] - 1s 246ms/step - loss: 1.0928 - accuracy: 0.6265 - val_loss: 1.9728 - val_accuracy: 0.4667\n",
      "Epoch 221/1000\n",
      "3/3 [==============================] - 1s 248ms/step - loss: 0.7513 - accuracy: 0.7470 - val_loss: 1.9729 - val_accuracy: 0.4667\n",
      "Epoch 222/1000\n",
      "3/3 [==============================] - 1s 280ms/step - loss: 0.7490 - accuracy: 0.7229 - val_loss: 1.9728 - val_accuracy: 0.4667\n",
      "Epoch 223/1000\n",
      "3/3 [==============================] - 1s 246ms/step - loss: 0.6982 - accuracy: 0.7590 - val_loss: 1.9686 - val_accuracy: 0.4667\n",
      "Epoch 224/1000\n",
      "3/3 [==============================] - 1s 281ms/step - loss: 1.0374 - accuracy: 0.6265 - val_loss: 1.9643 - val_accuracy: 0.4667\n",
      "Epoch 225/1000\n",
      "3/3 [==============================] - 1s 251ms/step - loss: 0.8537 - accuracy: 0.7108 - val_loss: 1.9573 - val_accuracy: 0.4667\n",
      "Epoch 226/1000\n",
      "3/3 [==============================] - 1s 278ms/step - loss: 0.7596 - accuracy: 0.7108 - val_loss: 1.9481 - val_accuracy: 0.5333\n",
      "Epoch 227/1000\n",
      "3/3 [==============================] - 1s 286ms/step - loss: 0.8237 - accuracy: 0.7590 - val_loss: 1.9478 - val_accuracy: 0.5333\n",
      "Epoch 228/1000\n",
      "3/3 [==============================] - 1s 284ms/step - loss: 0.8136 - accuracy: 0.7349 - val_loss: 1.9489 - val_accuracy: 0.5333\n"
     ]
    },
    {
     "name": "stdout",
     "output_type": "stream",
     "text": [
      "Epoch 229/1000\n",
      "3/3 [==============================] - 1s 248ms/step - loss: 0.8401 - accuracy: 0.7470 - val_loss: 1.9438 - val_accuracy: 0.5333\n",
      "Epoch 230/1000\n",
      "3/3 [==============================] - 1s 277ms/step - loss: 0.7492 - accuracy: 0.7590 - val_loss: 1.9367 - val_accuracy: 0.5333\n",
      "Epoch 231/1000\n",
      "3/3 [==============================] - 1s 244ms/step - loss: 0.8661 - accuracy: 0.6506 - val_loss: 1.9308 - val_accuracy: 0.5333\n",
      "Epoch 232/1000\n",
      "3/3 [==============================] - 1s 282ms/step - loss: 0.9114 - accuracy: 0.6988 - val_loss: 1.9295 - val_accuracy: 0.5333\n",
      "Epoch 233/1000\n",
      "3/3 [==============================] - 1s 247ms/step - loss: 0.8550 - accuracy: 0.6988 - val_loss: 1.9291 - val_accuracy: 0.5333\n",
      "Epoch 234/1000\n",
      "3/3 [==============================] - 1s 250ms/step - loss: 0.8226 - accuracy: 0.6988 - val_loss: 1.9331 - val_accuracy: 0.5333\n",
      "Epoch 235/1000\n",
      "3/3 [==============================] - 1s 245ms/step - loss: 0.6529 - accuracy: 0.8072 - val_loss: 1.9332 - val_accuracy: 0.5333\n",
      "Epoch 236/1000\n",
      "3/3 [==============================] - 1s 245ms/step - loss: 0.9393 - accuracy: 0.6988 - val_loss: 1.9340 - val_accuracy: 0.5333\n",
      "Epoch 237/1000\n",
      "3/3 [==============================] - 1s 277ms/step - loss: 1.0687 - accuracy: 0.6386 - val_loss: 1.9446 - val_accuracy: 0.5333\n",
      "Epoch 238/1000\n",
      "3/3 [==============================] - 1s 252ms/step - loss: 0.7691 - accuracy: 0.6988 - val_loss: 1.9569 - val_accuracy: 0.5333\n",
      "Epoch 239/1000\n",
      "3/3 [==============================] - 1s 277ms/step - loss: 0.7452 - accuracy: 0.7470 - val_loss: 1.9712 - val_accuracy: 0.5333\n",
      "Epoch 240/1000\n",
      "3/3 [==============================] - 1s 282ms/step - loss: 0.7306 - accuracy: 0.7711 - val_loss: 1.9743 - val_accuracy: 0.5333\n",
      "Epoch 241/1000\n",
      "3/3 [==============================] - 1s 243ms/step - loss: 0.6984 - accuracy: 0.7349 - val_loss: 1.9787 - val_accuracy: 0.5333\n",
      "Epoch 242/1000\n",
      "3/3 [==============================] - 1s 250ms/step - loss: 0.8428 - accuracy: 0.7470 - val_loss: 1.9765 - val_accuracy: 0.5333\n",
      "Epoch 243/1000\n",
      "3/3 [==============================] - 1s 245ms/step - loss: 0.6958 - accuracy: 0.8072 - val_loss: 1.9726 - val_accuracy: 0.5333\n",
      "Epoch 244/1000\n",
      "3/3 [==============================] - 1s 253ms/step - loss: 1.0094 - accuracy: 0.6265 - val_loss: 1.9700 - val_accuracy: 0.5333\n",
      "Epoch 245/1000\n",
      "3/3 [==============================] - 1s 248ms/step - loss: 0.7652 - accuracy: 0.7470 - val_loss: 1.9601 - val_accuracy: 0.5333\n",
      "Epoch 246/1000\n",
      "3/3 [==============================] - 1s 256ms/step - loss: 0.8009 - accuracy: 0.7108 - val_loss: 1.9470 - val_accuracy: 0.5333\n",
      "Epoch 247/1000\n",
      "3/3 [==============================] - 1s 250ms/step - loss: 0.7746 - accuracy: 0.7349 - val_loss: 1.9448 - val_accuracy: 0.6000\n",
      "Epoch 248/1000\n",
      "3/3 [==============================] - 1s 255ms/step - loss: 0.7292 - accuracy: 0.7470 - val_loss: 1.9510 - val_accuracy: 0.6000\n",
      "Epoch 249/1000\n",
      "3/3 [==============================] - 1s 257ms/step - loss: 0.6979 - accuracy: 0.7470 - val_loss: 1.9445 - val_accuracy: 0.6000\n",
      "Epoch 250/1000\n",
      "3/3 [==============================] - 1s 253ms/step - loss: 0.8870 - accuracy: 0.6867 - val_loss: 1.9401 - val_accuracy: 0.6000\n",
      "Epoch 251/1000\n",
      "3/3 [==============================] - 1s 255ms/step - loss: 0.8736 - accuracy: 0.6747 - val_loss: 1.9350 - val_accuracy: 0.6000\n",
      "Epoch 252/1000\n",
      "3/3 [==============================] - 1s 285ms/step - loss: 0.7837 - accuracy: 0.7349 - val_loss: 1.9338 - val_accuracy: 0.6000\n",
      "Epoch 253/1000\n",
      "3/3 [==============================] - 1s 249ms/step - loss: 0.8528 - accuracy: 0.7108 - val_loss: 1.9307 - val_accuracy: 0.6000\n",
      "Epoch 254/1000\n",
      "3/3 [==============================] - 1s 246ms/step - loss: 0.7502 - accuracy: 0.7952 - val_loss: 1.9350 - val_accuracy: 0.6000\n",
      "Epoch 255/1000\n",
      "3/3 [==============================] - 1s 273ms/step - loss: 0.8796 - accuracy: 0.6867 - val_loss: 1.9323 - val_accuracy: 0.6000\n",
      "Epoch 256/1000\n",
      "3/3 [==============================] - 1s 246ms/step - loss: 0.7051 - accuracy: 0.7229 - val_loss: 1.9280 - val_accuracy: 0.5333\n",
      "Epoch 257/1000\n",
      "3/3 [==============================] - 1s 248ms/step - loss: 0.6490 - accuracy: 0.8193 - val_loss: 1.9285 - val_accuracy: 0.5333\n",
      "Epoch 258/1000\n",
      "3/3 [==============================] - 1s 240ms/step - loss: 0.7093 - accuracy: 0.7470 - val_loss: 1.9319 - val_accuracy: 0.5333\n",
      "Epoch 259/1000\n",
      "3/3 [==============================] - 1s 272ms/step - loss: 0.6826 - accuracy: 0.7711 - val_loss: 1.9366 - val_accuracy: 0.5333\n",
      "Epoch 260/1000\n",
      "3/3 [==============================] - 1s 243ms/step - loss: 0.8349 - accuracy: 0.6988 - val_loss: 1.9333 - val_accuracy: 0.5333\n",
      "Epoch 261/1000\n",
      "3/3 [==============================] - 1s 249ms/step - loss: 0.8745 - accuracy: 0.6988 - val_loss: 1.9254 - val_accuracy: 0.5333\n",
      "Epoch 262/1000\n",
      "3/3 [==============================] - 1s 248ms/step - loss: 0.8876 - accuracy: 0.6988 - val_loss: 1.9202 - val_accuracy: 0.5333\n",
      "Epoch 263/1000\n",
      "3/3 [==============================] - 1s 244ms/step - loss: 0.6758 - accuracy: 0.8193 - val_loss: 1.9133 - val_accuracy: 0.5333\n",
      "Epoch 264/1000\n",
      "3/3 [==============================] - 1s 275ms/step - loss: 0.6216 - accuracy: 0.7711 - val_loss: 1.9123 - val_accuracy: 0.5333\n",
      "Epoch 265/1000\n",
      "3/3 [==============================] - 1s 281ms/step - loss: 0.7709 - accuracy: 0.7229 - val_loss: 1.9147 - val_accuracy: 0.5333\n",
      "Epoch 266/1000\n",
      "3/3 [==============================] - 1s 279ms/step - loss: 0.9522 - accuracy: 0.6506 - val_loss: 1.9076 - val_accuracy: 0.5333\n",
      "Epoch 267/1000\n",
      "3/3 [==============================] - 1s 248ms/step - loss: 0.8635 - accuracy: 0.7229 - val_loss: 1.9049 - val_accuracy: 0.5333\n",
      "Epoch 268/1000\n",
      "3/3 [==============================] - 1s 291ms/step - loss: 0.7078 - accuracy: 0.7590 - val_loss: 1.9059 - val_accuracy: 0.5333\n",
      "Epoch 269/1000\n",
      "3/3 [==============================] - ETA: 0s - loss: 0.6936 - accuracy: 0.7229Restoring model weights from the end of the best epoch: 169.\n",
      "3/3 [==============================] - 1s 272ms/step - loss: 0.6936 - accuracy: 0.7229 - val_loss: 1.9069 - val_accuracy: 0.5333\n",
      "Epoch 00269: early stopping\n"
     ]
    },
    {
     "data": {
      "text/plain": [
       "<keras.callbacks.History at 0x2190e869d48>"
      ]
     },
     "execution_count": 130,
     "metadata": {},
     "output_type": "execute_result"
    }
   ],
   "source": [
    "model.fit(train, epochs = 1000, steps_per_epoch = len(train), batch_size=1,\n",
    "              validation_data = validation, validation_steps = len(validation), callbacks=[stop_alg])"
   ]
  },
  {
   "cell_type": "code",
   "execution_count": 131,
   "metadata": {},
   "outputs": [],
   "source": [
    "stop_alg = tf.keras.callbacks.EarlyStopping(monitor='val_loss', patience=20,\n",
    "                         restore_best_weights=True, verbose=2)"
   ]
  },
  {
   "cell_type": "code",
   "execution_count": 132,
   "metadata": {},
   "outputs": [],
   "source": [
    "model.layers[4].trainable=True"
   ]
  },
  {
   "cell_type": "code",
   "execution_count": 41,
   "metadata": {},
   "outputs": [],
   "source": [
    "model.compile(loss='categorical_crossentropy', optimizer = tf.keras.optimizers.Adam(learning_rate= 1e-5),\n",
    "    metrics = [\"accuracy\"])"
   ]
  },
  {
   "cell_type": "code",
   "execution_count": 134,
   "metadata": {
    "scrolled": false
   },
   "outputs": [
    {
     "name": "stdout",
     "output_type": "stream",
     "text": [
      "Epoch 1/2000\n",
      "3/3 [==============================] - 12s 2s/step - loss: 0.8778 - accuracy: 0.6867 - val_loss: 1.9117 - val_accuracy: 0.4000\n",
      "Epoch 2/2000\n",
      "3/3 [==============================] - 4s 1s/step - loss: 1.0876 - accuracy: 0.6024 - val_loss: 1.8774 - val_accuracy: 0.3333\n",
      "Epoch 3/2000\n",
      "3/3 [==============================] - 4s 2s/step - loss: 0.8925 - accuracy: 0.6747 - val_loss: 1.9404 - val_accuracy: 0.3333\n",
      "Epoch 4/2000\n",
      "3/3 [==============================] - 4s 1s/step - loss: 0.7281 - accuracy: 0.7711 - val_loss: 2.0298 - val_accuracy: 0.4000\n",
      "Epoch 5/2000\n",
      "3/3 [==============================] - 4s 1s/step - loss: 0.7457 - accuracy: 0.6988 - val_loss: 2.0179 - val_accuracy: 0.4000\n",
      "Epoch 6/2000\n",
      "3/3 [==============================] - 4s 1s/step - loss: 0.7369 - accuracy: 0.7349 - val_loss: 1.9151 - val_accuracy: 0.4667\n",
      "Epoch 7/2000\n",
      "3/3 [==============================] - 4s 1s/step - loss: 0.6795 - accuracy: 0.7952 - val_loss: 1.9110 - val_accuracy: 0.4667\n",
      "Epoch 8/2000\n",
      "3/3 [==============================] - 4s 1s/step - loss: 0.6908 - accuracy: 0.7952 - val_loss: 1.9686 - val_accuracy: 0.4667\n",
      "Epoch 9/2000\n",
      "3/3 [==============================] - 4s 2s/step - loss: 0.7050 - accuracy: 0.7711 - val_loss: 2.0186 - val_accuracy: 0.4667\n",
      "Epoch 10/2000\n",
      "3/3 [==============================] - 5s 1s/step - loss: 0.7756 - accuracy: 0.6988 - val_loss: 1.9939 - val_accuracy: 0.4667\n",
      "Epoch 11/2000\n",
      "3/3 [==============================] - 5s 2s/step - loss: 0.7181 - accuracy: 0.7349 - val_loss: 1.9542 - val_accuracy: 0.4667\n",
      "Epoch 12/2000\n",
      "3/3 [==============================] - 5s 1s/step - loss: 0.7344 - accuracy: 0.7349 - val_loss: 1.9190 - val_accuracy: 0.4667\n",
      "Epoch 13/2000\n",
      "3/3 [==============================] - 4s 2s/step - loss: 0.6914 - accuracy: 0.7831 - val_loss: 1.8941 - val_accuracy: 0.4667\n",
      "Epoch 14/2000\n",
      "3/3 [==============================] - 5s 2s/step - loss: 0.5315 - accuracy: 0.8193 - val_loss: 1.8847 - val_accuracy: 0.4667\n",
      "Epoch 15/2000\n",
      "3/3 [==============================] - 4s 2s/step - loss: 0.6302 - accuracy: 0.7470 - val_loss: 1.8443 - val_accuracy: 0.5333\n",
      "Epoch 16/2000\n",
      "3/3 [==============================] - 5s 1s/step - loss: 0.5385 - accuracy: 0.8434 - val_loss: 1.8429 - val_accuracy: 0.4667\n",
      "Epoch 17/2000\n",
      "3/3 [==============================] - 4s 2s/step - loss: 0.4734 - accuracy: 0.8313 - val_loss: 1.8715 - val_accuracy: 0.5333\n",
      "Epoch 18/2000\n",
      "3/3 [==============================] - 5s 2s/step - loss: 0.5881 - accuracy: 0.7831 - val_loss: 1.7664 - val_accuracy: 0.6000\n",
      "Epoch 19/2000\n",
      "3/3 [==============================] - 5s 2s/step - loss: 0.4207 - accuracy: 0.8675 - val_loss: 1.6203 - val_accuracy: 0.6667\n",
      "Epoch 20/2000\n",
      "3/3 [==============================] - 5s 2s/step - loss: 0.4790 - accuracy: 0.8675 - val_loss: 1.5332 - val_accuracy: 0.6667\n",
      "Epoch 21/2000\n",
      "3/3 [==============================] - 5s 1s/step - loss: 0.5842 - accuracy: 0.7590 - val_loss: 1.5371 - val_accuracy: 0.6667\n",
      "Epoch 22/2000\n",
      "3/3 [==============================] - 4s 1s/step - loss: 0.4964 - accuracy: 0.7831 - val_loss: 1.5624 - val_accuracy: 0.6667\n",
      "Epoch 23/2000\n",
      "3/3 [==============================] - 5s 2s/step - loss: 0.4017 - accuracy: 0.8675 - val_loss: 1.6220 - val_accuracy: 0.6000\n",
      "Epoch 24/2000\n",
      "3/3 [==============================] - 5s 2s/step - loss: 0.6143 - accuracy: 0.7831 - val_loss: 1.7055 - val_accuracy: 0.6000\n",
      "Epoch 25/2000\n",
      "3/3 [==============================] - 4s 1s/step - loss: 0.4632 - accuracy: 0.7711 - val_loss: 1.7090 - val_accuracy: 0.5333\n",
      "Epoch 26/2000\n",
      "3/3 [==============================] - 4s 1s/step - loss: 0.3742 - accuracy: 0.8916 - val_loss: 1.6983 - val_accuracy: 0.6000\n",
      "Epoch 27/2000\n",
      "3/3 [==============================] - 5s 1s/step - loss: 0.3559 - accuracy: 0.8916 - val_loss: 1.6799 - val_accuracy: 0.6000\n",
      "Epoch 28/2000\n",
      "3/3 [==============================] - 4s 1s/step - loss: 0.3199 - accuracy: 0.8795 - val_loss: 1.6826 - val_accuracy: 0.6000\n",
      "Epoch 29/2000\n",
      "3/3 [==============================] - 4s 1s/step - loss: 0.6283 - accuracy: 0.7470 - val_loss: 1.6710 - val_accuracy: 0.5333\n",
      "Epoch 30/2000\n",
      "3/3 [==============================] - 4s 1s/step - loss: 0.2949 - accuracy: 0.8916 - val_loss: 1.6695 - val_accuracy: 0.4667\n",
      "Epoch 31/2000\n",
      "3/3 [==============================] - 4s 1s/step - loss: 0.2789 - accuracy: 0.9157 - val_loss: 1.6353 - val_accuracy: 0.4667\n",
      "Epoch 32/2000\n",
      "3/3 [==============================] - 4s 1s/step - loss: 0.3333 - accuracy: 0.8916 - val_loss: 1.6373 - val_accuracy: 0.6000\n",
      "Epoch 33/2000\n",
      "3/3 [==============================] - 4s 1s/step - loss: 0.2571 - accuracy: 0.8916 - val_loss: 1.6702 - val_accuracy: 0.6000\n",
      "Epoch 34/2000\n",
      "3/3 [==============================] - 4s 2s/step - loss: 0.3152 - accuracy: 0.9157 - val_loss: 1.7393 - val_accuracy: 0.6000\n",
      "Epoch 35/2000\n",
      "3/3 [==============================] - 5s 1s/step - loss: 0.2735 - accuracy: 0.8675 - val_loss: 1.8496 - val_accuracy: 0.5333\n",
      "Epoch 36/2000\n",
      "3/3 [==============================] - 5s 1s/step - loss: 0.2890 - accuracy: 0.8795 - val_loss: 1.8251 - val_accuracy: 0.4667\n",
      "Epoch 37/2000\n",
      "3/3 [==============================] - 4s 1s/step - loss: 0.3744 - accuracy: 0.8554 - val_loss: 1.7568 - val_accuracy: 0.6000\n",
      "Epoch 38/2000\n",
      "3/3 [==============================] - 4s 2s/step - loss: 0.1666 - accuracy: 0.9398 - val_loss: 1.6790 - val_accuracy: 0.6667\n",
      "Epoch 39/2000\n",
      "3/3 [==============================] - 4s 1s/step - loss: 0.1520 - accuracy: 0.9518 - val_loss: 1.5850 - val_accuracy: 0.6667\n",
      "Epoch 40/2000\n",
      "3/3 [==============================] - ETA: 0s - loss: 0.2410 - accuracy: 0.9036Restoring model weights from the end of the best epoch: 20.\n",
      "3/3 [==============================] - 4s 1s/step - loss: 0.2410 - accuracy: 0.9036 - val_loss: 1.5623 - val_accuracy: 0.6667\n",
      "Epoch 00040: early stopping\n"
     ]
    }
   ],
   "source": [
    "#let us train the model (we ran for 1 epoch before what you can see displayed)\n",
    "history=model.fit(train, epochs =2000, steps_per_epoch = len(train),\n",
    "              validation_data = validation, validation_steps = len(validation), callbacks=[stop_alg])"
   ]
  },
  {
   "cell_type": "code",
   "execution_count": 138,
   "metadata": {},
   "outputs": [],
   "source": [
    "#model.save_weights(\"./checkpoints/62\")"
   ]
  },
  {
   "cell_type": "code",
   "execution_count": 9,
   "metadata": {
    "scrolled": false
   },
   "outputs": [
    {
     "data": {
      "text/plain": [
       "<tensorflow.python.training.tracking.util.CheckpointLoadStatus at 0x172977cabc8>"
      ]
     },
     "execution_count": 9,
     "metadata": {},
     "output_type": "execute_result"
    }
   ],
   "source": [
    "model.load_weights(\"./checkpoints/62\")"
   ]
  },
  {
   "cell_type": "code",
   "execution_count": 10,
   "metadata": {},
   "outputs": [],
   "source": [
    "model.compile(loss='categorical_crossentropy', optimizer = tf.keras.optimizers.Adam(learning_rate= 1e-5),\n",
    "    metrics = [\"accuracy\"])"
   ]
  },
  {
   "cell_type": "code",
   "execution_count": 15,
   "metadata": {},
   "outputs": [],
   "source": [
    "test_dir=\"./Notes/test\""
   ]
  },
  {
   "cell_type": "code",
   "execution_count": 14,
   "metadata": {
    "scrolled": true
   },
   "outputs": [
    {
     "name": "stdout",
     "output_type": "stream",
     "text": [
      "Found 16 images belonging to 15 classes.\n"
     ]
    }
   ],
   "source": [
    "test=ImageDataGenerator()\n",
    "test=test.flow_from_directory(test_dir,target_size=(WIDTH,HEIGHT))"
   ]
  },
  {
   "cell_type": "code",
   "execution_count": 16,
   "metadata": {
    "scrolled": true
   },
   "outputs": [
    {
     "name": "stdout",
     "output_type": "stream",
     "text": [
      "1/1 [==============================] - 2s 2s/step - loss: 1.6437 - accuracy: 0.6250\n"
     ]
    },
    {
     "data": {
      "text/plain": [
       "[1.643721580505371, 0.625]"
      ]
     },
     "execution_count": 16,
     "metadata": {},
     "output_type": "execute_result"
    }
   ],
   "source": [
    "model.evaluate(test)"
   ]
  },
  {
   "cell_type": "code",
   "execution_count": 39,
   "metadata": {
    "scrolled": false
   },
   "outputs": [
    {
     "data": {
      "text/plain": [
       "{'A4': 0,\n",
       " 'A5': 1,\n",
       " 'B4': 2,\n",
       " 'B5': 3,\n",
       " 'C4': 4,\n",
       " 'C5': 5,\n",
       " 'C6': 6,\n",
       " 'D4': 7,\n",
       " 'D5': 8,\n",
       " 'E4': 9,\n",
       " 'E5': 10,\n",
       " 'F4': 11,\n",
       " 'F5': 12,\n",
       " 'G4': 13,\n",
       " 'G5': 14}"
      ]
     },
     "execution_count": 39,
     "metadata": {},
     "output_type": "execute_result"
    }
   ],
   "source": [
    "train.class_indices"
   ]
  },
  {
   "cell_type": "code",
   "execution_count": 41,
   "metadata": {},
   "outputs": [],
   "source": [
    "index2key=dict()\n",
    "for i,j in enumerate(train.class_indices):\n",
    "    index2key[i]=j\n",
    "    "
   ]
  },
  {
   "cell_type": "code",
   "execution_count": 55,
   "metadata": {},
   "outputs": [],
   "source": [
    "ascii_art={4:\"e|-----|\\nB|-----|\\nG|-----|\\nD|-----|\\nA|--3--|\\nE|-----|\",\n",
    "           7:\"e|-----|\\nB|-----|\\nG|-----|\\nD|--0--|\\nA|-----|\\nE|-----|\",\n",
    "           9:\"e|-----|\\nB|-----|\\nG|-----|\\nD|--2--|\\nA|-----|\\nE|-----|\",\n",
    "           11:\"e|-----|\\nB|-----|\\nG|-----|\\nD|--3--|\\nA|-----|\\nE|-----|\",\n",
    "           13:\"e|-----|\\nB|-----|\\nG|--0--|\\nD|-----|\\nA|-----|\\nE|-----|\",\n",
    "           0:\"e|-----|\\nB|-----|\\nG|--2--|\\nD|-----|\\nA|-----|\\nE|-----|\",\n",
    "           2:\"e|-----|\\nB|--0--|\\nG|-----|\\nD|-----|\\nA|-----|\\nE|-----|\",\n",
    "           5:\"e|-----|\\nB|--1--|\\nG|-----|\\nD|-----|\\nA|-----|\\nE|-----|\",\n",
    "           8:\"e|-----|\\nB|--3--|\\nG|-----|\\nD|-----|\\nA|-----|\\nE|-----|\",\n",
    "           10:\"e|--0--|\\nB|-----|\\nG|-----|\\nD|-----|\\nA|-----|\\nE|-----|\",\n",
    "           12:\"e|--1--|\\nB|-----|\\nG|-----|\\nD|-----|\\nA|-----|\\nE|-----|\",\n",
    "           14:\"e|--3--|\\nB|-----|\\nG|-----|\\nD|-----|\\nA|-----|\\nE|-----|\",\n",
    "           1:\"e|--5--|\\nB|-----|\\nG|-----|\\nD|-----|\\nA|-----|\\nE|-----|\",\n",
    "           3:\"e|--7--|\\nB|-----|\\nG|-----|\\nD|-----|\\nA|-----|\\nE|-----|\",\n",
    "           6:\"e|--9--|\\nB|-----|\\nG|-----|\\nD|-----|\\nA|-----|\\nE|-----|\"}\n"
   ]
  },
  {
   "cell_type": "markdown",
   "metadata": {},
   "source": [
    "## Demo"
   ]
  },
  {
   "cell_type": "code",
   "execution_count": 63,
   "metadata": {},
   "outputs": [
    {
     "name": "stdout",
     "output_type": "stream",
     "text": [
      "Found 1 images belonging to 1 classes.\n"
     ]
    }
   ],
   "source": [
    "test_dir=\"./Notes/Demo\"\n",
    "test=ImageDataGenerator()\n",
    "test=test.flow_from_directory(test_dir,target_size=(WIDTH,HEIGHT))"
   ]
  },
  {
   "cell_type": "code",
   "execution_count": 65,
   "metadata": {
    "scrolled": true
   },
   "outputs": [
    {
     "data": {
      "image/png": "[encoded data removed]",
      "text/plain": [
       "<Figure size 432x288 with 1 Axes>"
      ]
     },
     "metadata": {
      "needs_background": "light"
     },
     "output_type": "display_data"
    },
    {
     "name": "stdout",
     "output_type": "stream",
     "text": [
      "e|-----|\n",
      "B|-----|\n",
      "G|-----|\n",
      "D|-----|\n",
      "A|--3--|\n",
      "E|-----| C4\n"
     ]
    }
   ],
   "source": [
    "counter=0\n",
    "for i in test:\n",
    "    plt.imshow(i[0][0]/255)\n",
    "    counter+=1\n",
    "    plt.show()\n",
    "    result = model.predict(i[0])\n",
    "    index=result.argmax(axis=1)[0]\n",
    "    print(ascii_art[index], index2key[index])\n",
    "    if counter==1:\n",
    "        break"
   ]
  },
  {
   "cell_type": "code",
   "execution_count": 67,
   "metadata": {},
   "outputs": [
    {
     "name": "stdout",
     "output_type": "stream",
     "text": [
      "Found 1 images belonging to 1 classes.\n"
     ]
    },
    {
     "data": {
      "image/png": "[encoded data removed]",
      "text/plain": [
       "<Figure size 432x288 with 1 Axes>"
      ]
     },
     "metadata": {
      "needs_background": "light"
     },
     "output_type": "display_data"
    },
    {
     "name": "stdout",
     "output_type": "stream",
     "text": [
      "e|--0--|\n",
      "B|-----|\n",
      "G|-----|\n",
      "D|-----|\n",
      "A|-----|\n",
      "E|-----| E5\n"
     ]
    }
   ],
   "source": [
    "test_dir=\"./Notes/Demo2\"\n",
    "test=ImageDataGenerator()\n",
    "test=test.flow_from_directory(test_dir,target_size=(WIDTH,HEIGHT))\n",
    "counter=0\n",
    "for i in test:\n",
    "    plt.imshow(i[0][0]/255)\n",
    "    counter+=1\n",
    "    plt.show()\n",
    "    result = model.predict(i[0])\n",
    "    index=result.argmax(axis=1)[0]\n",
    "    print(ascii_art[index], index2key[index])\n",
    "    if counter==1:\n",
    "        break"
   ]
  }
 ],
 "metadata": {
  "kernelspec": {
   "display_name": "Python [conda env:py3-Tf2.0]",
   "language": "python",
   "name": "conda-env-py3-Tf2.0-py"
  },
  "language_info": {
   "codemirror_mode": {
    "name": "ipython",
    "version": 3
   },
   "file_extension": ".py",
   "mimetype": "text/x-python",
   "name": "python",
   "nbconvert_exporter": "python",
   "pygments_lexer": "ipython3",
   "version": "3.7.11"
  }
 },
 "nbformat": 4,
 "nbformat_minor": 4
}
